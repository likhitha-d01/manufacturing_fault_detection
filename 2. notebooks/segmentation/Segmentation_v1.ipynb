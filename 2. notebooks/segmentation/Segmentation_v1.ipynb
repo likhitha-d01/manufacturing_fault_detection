{
  "nbformat": 4,
  "nbformat_minor": 0,
  "metadata": {
    "colab": {
      "name": "Segmentation_v1.ipynb",
      "provenance": [],
      "collapsed_sections": [
        "AJ5iCdZVKsaN",
        "gRZeBS2qLEV4",
        "NO00T3mjLXXu",
        "AGhXfY1pLgIJ",
        "lbxmdITkL2TX",
        "nGZyKHQDL9V5",
        "zUJqMxi1MEZT",
        "nJVY9ad5MS6I"
      ]
    },
    "kernelspec": {
      "name": "python3",
      "display_name": "Python 3"
    }
  },
  "cells": [
    {
      "cell_type": "markdown",
      "metadata": {
        "id": "2ZytusM1GPCJ"
      },
      "source": [
        "# Segmentation model - Version 1\n",
        "\n",
        "The classification backbone of the model is VGG-16 network"
      ]
    },
    {
      "cell_type": "code",
      "metadata": {
        "id": "GvpGmGJE3Nj_"
      },
      "source": [
        "import os\n",
        "import keras\n",
        "import tensorflow as tf\n",
        "import keras.backend as K"
      ],
      "execution_count": null,
      "outputs": []
    },
    {
      "cell_type": "markdown",
      "metadata": {
        "id": "RYv62k-uGQUV"
      },
      "source": [
        "## Building model"
      ]
    },
    {
      "cell_type": "code",
      "metadata": {
        "id": "a2E_4VPv4afX"
      },
      "source": [
        "\n",
        "def build_model(optimizer, learning_rate, out_type):\n",
        "\n",
        "    policy = tf.keras.mixed_precision.experimental.Policy('mixed_float16')#sets values to be float16 for nvidia 2000,3000 series GPUs, plus others im sure\n",
        "    \n",
        "    input_img = keras.layers.Input(shape=(512, 512, 1))\n",
        "    x = keras.layers.Lambda(lambda x: K.cast_to_floatx(x))(input_img)\n",
        "    x = keras.layers.Lambda(lambda x: x/255.)(x)\n",
        "    \n",
        "    x = keras.layers.BatchNorm()(x)\n",
        "    x = keras.layers.Conv2D(8, 3,padding='valid',activation='selu', kernel_initializer='lecun_normal',dtype=policy)(x)\n",
        "    x = keras.layers.Conv2D(8, 3,padding='valid',activation='selu', kernel_initializer='lecun_normal',dtype=policy)(x)\n",
        "    x = keras.layers.MaxPooling2D(2)(x)\n",
        "    x = keras.layers.BatchNorm()(x)\n",
        "\n",
        "    x = keras.layers.Conv2D(16, 3,padding='valid',activation='selu', kernel_initializer='lecun_normal',dtype=policy)(x)\n",
        "    x = keras.layers.Conv2D(16, 3,padding='valid',activation='selu', kernel_initializer='lecun_normal',dtype=policy)(x)\n",
        "    x = keras.layers.MaxPooling2D(2)(x)\n",
        "    x = keras.layers.BatchNorm()(x)\n",
        "    \n",
        "    x = keras.layers.Conv2D(16, 2,padding='valid',activation='selu', kernel_initializer='lecun_normal',dtype=policy)(x)\n",
        "    x = keras.layers.Conv2D(16, 3,padding='valid',activation='selu', kernel_initializer='lecun_normal',dtype=policy)(x)\n",
        "    x = keras.layers.MaxPooling2D(2)(x)\n",
        "    x = keras.layers.BatchNorm()(x)\n",
        "    \n",
        "    x = keras.layers.Conv2D(32, 2,padding='valid',activation='selu', kernel_initializer='lecun_normal',dtype=policy)(x)\n",
        "    x = keras.layers.Conv2D(32, 3,padding='valid',activation='selu', kernel_initializer='lecun_normal',dtype=policy)(x)\n",
        "    x = keras.layers.MaxPooling2D(2)(x)\n",
        "    x = keras.layers.BatchNorm()(x)    \n",
        "\n",
        "    x = keras.layers.Conv2D(16, 1, activation=\"selu\",kernel_initializer=\"lecun_normal\",dtype=policy)(x)\n",
        "    x = keras.layers.Conv2D(1, 1, activation='linear')(x)\n",
        "    x_map = keras.activations.Activation(\"sigmoid\")(x)\n",
        "    \n",
        "\n",
        "    \n",
        "    y = keras.layers.GlobalMaxPooling2D()(x_map)\n",
        "    \n",
        "    if opt == \"SGD\":\n",
        "        #looks like pretty good but noisy results with no momentum, lets check 0.9...\n",
        "        optimizer = keras.optimizers.SGD(lr=lr)\n",
        "    if opt == \"RMSprop\":\n",
        "        optimizer = keras.optimizers.RMSprop(learning_rate=lr)\n",
        "    if opt == \"Adam\":\n",
        "        optimizer = keras.optimizers.Adam(learning_rate=lr)\n",
        "\n",
        "    if out_type == \"classify\":\n",
        "        model = keras.models.Model(inputs=input_img, outputs=y)\n",
        "    if out_type == \"map\":\n",
        "        model = keras.models.Model(inputs=input_img, outputs=x_map)\n",
        "    model.compile(loss=\"binary_crossentropy\",optimizer=optimizer, metrics=['accuracy','AUC'])\n",
        "\n",
        "    return model\n",
        "\n"
      ],
      "execution_count": null,
      "outputs": []
    },
    {
      "cell_type": "code",
      "metadata": {
        "id": "yDbFkajCHDgG"
      },
      "source": [
        "map_model = build_model(\"SGD\", 1e-2, \"map\")\n",
        "model = build_model(\"SGD\", 1e-2, \"classify\")\n",
        "model.summary()"
      ],
      "execution_count": null,
      "outputs": []
    },
    {
      "cell_type": "markdown",
      "metadata": {
        "id": "AJ5iCdZVKsaN"
      },
      "source": [
        "## CASTING DATA"
      ]
    },
    {
      "cell_type": "markdown",
      "metadata": {
        "id": "JDYvlKbxKxWq"
      },
      "source": [
        "### Pre-processing\n"
      ]
    },
    {
      "cell_type": "code",
      "metadata": {
        "id": "kZIlPBW4KwpV"
      },
      "source": [
        ""
      ],
      "execution_count": null,
      "outputs": []
    },
    {
      "cell_type": "markdown",
      "metadata": {
        "id": "wqneUq65LCM0"
      },
      "source": [
        "### Training model"
      ]
    },
    {
      "cell_type": "code",
      "metadata": {
        "id": "okBDv1VnLDmm"
      },
      "source": [
        ""
      ],
      "execution_count": null,
      "outputs": []
    },
    {
      "cell_type": "markdown",
      "metadata": {
        "id": "d1P0NR7LLT6y"
      },
      "source": [
        "### Testing the model"
      ]
    },
    {
      "cell_type": "code",
      "metadata": {
        "id": "DELw_VzGLWW3"
      },
      "source": [
        ""
      ],
      "execution_count": null,
      "outputs": []
    },
    {
      "cell_type": "markdown",
      "metadata": {
        "id": "gRZeBS2qLEV4"
      },
      "source": [
        "## DEEP PCB DATA"
      ]
    },
    {
      "cell_type": "markdown",
      "metadata": {
        "id": "k1TEDZVOLN3y"
      },
      "source": [
        "### Pre-processing"
      ]
    },
    {
      "cell_type": "code",
      "metadata": {
        "id": "iuVFcGS3LNFv"
      },
      "source": [
        ""
      ],
      "execution_count": null,
      "outputs": []
    },
    {
      "cell_type": "markdown",
      "metadata": {
        "id": "cFEfY7ArLQaU"
      },
      "source": [
        "### Training model"
      ]
    },
    {
      "cell_type": "code",
      "metadata": {
        "id": "HlYc9EzgLRon"
      },
      "source": [
        ""
      ],
      "execution_count": null,
      "outputs": []
    },
    {
      "cell_type": "markdown",
      "metadata": {
        "id": "NO00T3mjLXXu"
      },
      "source": [
        "## MAGNETIC TILE DATA"
      ]
    },
    {
      "cell_type": "markdown",
      "metadata": {
        "id": "NnFdJer0Lbif"
      },
      "source": [
        "### Pre-processing"
      ]
    },
    {
      "cell_type": "code",
      "metadata": {
        "id": "Ownd62AlLaxX"
      },
      "source": [
        ""
      ],
      "execution_count": null,
      "outputs": []
    },
    {
      "cell_type": "markdown",
      "metadata": {
        "id": "ZZsTLxsiLeoS"
      },
      "source": [
        "### Training model"
      ]
    },
    {
      "cell_type": "code",
      "metadata": {
        "id": "SkN13m1RLfi2"
      },
      "source": [
        ""
      ],
      "execution_count": null,
      "outputs": []
    },
    {
      "cell_type": "markdown",
      "metadata": {
        "id": "AGhXfY1pLgIJ"
      },
      "source": [
        "## ROAD CRACK DATA"
      ]
    },
    {
      "cell_type": "markdown",
      "metadata": {
        "id": "JgiNfO9JLkPu"
      },
      "source": [
        "### Pre-processing"
      ]
    },
    {
      "cell_type": "code",
      "metadata": {
        "id": "XEODUushLjPv"
      },
      "source": [
        ""
      ],
      "execution_count": null,
      "outputs": []
    },
    {
      "cell_type": "markdown",
      "metadata": {
        "id": "7eBdsUGULmTt"
      },
      "source": [
        "### Training model"
      ]
    },
    {
      "cell_type": "code",
      "metadata": {
        "id": "zBB-BLQ7LnU3"
      },
      "source": [
        ""
      ],
      "execution_count": null,
      "outputs": []
    },
    {
      "cell_type": "markdown",
      "metadata": {
        "id": "lbxmdITkL2TX"
      },
      "source": [
        "## SOLAR PANEL DATA"
      ]
    },
    {
      "cell_type": "markdown",
      "metadata": {
        "id": "LSoM7XTQL5yS"
      },
      "source": [
        "### Pre-processing"
      ]
    },
    {
      "cell_type": "code",
      "metadata": {
        "id": "wIHmBY-nL5Kb"
      },
      "source": [
        ""
      ],
      "execution_count": null,
      "outputs": []
    },
    {
      "cell_type": "markdown",
      "metadata": {
        "id": "xskYOOLoL7ol"
      },
      "source": [
        "### Training the model"
      ]
    },
    {
      "cell_type": "code",
      "metadata": {
        "id": "vbQGcviwL8pP"
      },
      "source": [
        ""
      ],
      "execution_count": null,
      "outputs": []
    },
    {
      "cell_type": "markdown",
      "metadata": {
        "id": "nGZyKHQDL9V5"
      },
      "source": [
        "## STEEL DEFECT DATA"
      ]
    },
    {
      "cell_type": "markdown",
      "metadata": {
        "id": "DpueROgeMAmA"
      },
      "source": [
        "### Pre-processing"
      ]
    },
    {
      "cell_type": "code",
      "metadata": {
        "id": "n9gef8BJL_73"
      },
      "source": [
        ""
      ],
      "execution_count": null,
      "outputs": []
    },
    {
      "cell_type": "markdown",
      "metadata": {
        "id": "wCcoJNXKMDAZ"
      },
      "source": [
        "### Training the model"
      ]
    },
    {
      "cell_type": "code",
      "metadata": {
        "id": "AP8Y1J7QMD8W"
      },
      "source": [
        ""
      ],
      "execution_count": null,
      "outputs": []
    },
    {
      "cell_type": "markdown",
      "metadata": {
        "id": "zUJqMxi1MEZT"
      },
      "source": [
        "## SURFACE DEFECT DATA"
      ]
    },
    {
      "cell_type": "markdown",
      "metadata": {
        "id": "8zAchs9SMIPx"
      },
      "source": [
        "### Pre-processing"
      ]
    },
    {
      "cell_type": "code",
      "metadata": {
        "id": "kgx8njgKMHZ4"
      },
      "source": [
        ""
      ],
      "execution_count": null,
      "outputs": []
    },
    {
      "cell_type": "markdown",
      "metadata": {
        "id": "VvVKOv-TMJ92"
      },
      "source": [
        "### Training the model"
      ]
    },
    {
      "cell_type": "code",
      "metadata": {
        "id": "KsRhN6WmMLU-"
      },
      "source": [
        ""
      ],
      "execution_count": null,
      "outputs": []
    },
    {
      "cell_type": "markdown",
      "metadata": {
        "id": "nJVY9ad5MS6I"
      },
      "source": [
        "## WELDING DATA"
      ]
    },
    {
      "cell_type": "markdown",
      "metadata": {
        "id": "OLtlvNDzMVBe"
      },
      "source": [
        "### Pre-processing"
      ]
    },
    {
      "cell_type": "code",
      "metadata": {
        "id": "PGeIbMUXMUYj"
      },
      "source": [
        ""
      ],
      "execution_count": null,
      "outputs": []
    },
    {
      "cell_type": "markdown",
      "metadata": {
        "id": "rx78NMdtMWbr"
      },
      "source": [
        "### Training model"
      ]
    },
    {
      "cell_type": "code",
      "metadata": {
        "id": "hbX0EgxMMYTG"
      },
      "source": [
        ""
      ],
      "execution_count": null,
      "outputs": []
    }
  ]
}